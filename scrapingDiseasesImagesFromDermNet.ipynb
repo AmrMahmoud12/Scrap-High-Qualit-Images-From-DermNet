{
 "cells": [
  {
   "cell_type": "markdown",
   "metadata": {},
   "source": [
    "# Scrap Data"
   ]
  },
  {
   "cell_type": "code",
   "execution_count": 1,
   "metadata": {},
   "outputs": [],
   "source": [
    "import requests\n",
    "from bs4 import BeautifulSoup\n",
    "import urllib.request \n",
    "from os.path import basename\n",
    "import random\n",
    "r = requests.get(\"http://www.dermnet.com/dn2/allJPG3/\")\n",
    "nsoup = BeautifulSoup(r.content,'lxml')\n",
    "nsoup.findAll('a')[1:]\n",
    "#get namesin href\n",
    "images=[]\n",
    "for a in nsoup.find_all('a', href=True)[1:]:\n",
    "    print(a['href'])\n",
    "    images.append(a['href'])\n",
    "#successful download of images\n",
    "# be sure the file name is diseases\n",
    "for i in images :\n",
    "    url=('http://www.dermnet.com/dn2/allJPG3/'+i)\n",
    "    urllib.request.urlretrieve(url,i)    "
   ]
  },
  {
   "cell_type": "markdown",
   "metadata": {},
   "source": [
    "# Preprocessing"
   ]
  },
  {
   "cell_type": "code",
   "execution_count": null,
   "metadata": {},
   "outputs": [],
   "source": [
    "#import os for directories\n",
    "import os\n",
    "import numpy as np\n",
    "import pandas as pd\n",
    "#file paths\n",
    "#be sure that you pust images in file called diseases\n",
    "path='//home/amr/work/diseases/'\n",
    "print(path)\n",
    "lists=[]\n",
    "paths=[]\n",
    "for filename in os.listdir(path):\n",
    "    if filename.endswith('.jpg') :\n",
    "        #split text of the name\n",
    "        #fullname=os.path.basename(ex)\n",
    "        name=os.path.splitext(filename)[0]\n",
    "        lists.append(name)\n",
    "        paths.append(path+'/'+filename)\n",
    "        #print(os.path.join(filename))\n",
    "    else :\n",
    "        continue\n",
    "l=np.array(lists) \n",
    "df=pd.DataFrame({'name':l,'path':paths})        \n",
    "df['name']=df['name'].str.replace('\\d+','')\n",
    "df['name']=df['name'].str.replace('-',' ')\n",
    "df.name\n",
    "df.name.value_counts()\n",
    "df['name'][df['name'].str.contains('IMG')].value_counts()\n",
    "df['name']=df['name'].str.replace('IMG GP','')\n",
    "df=df[~df.name.str.contains(\"IMG\")]\n",
    "df['name'][df['name'].str.contains('IMG')].value_counts()\n",
    "df.to_csv('images.csv',index=False)"
   ]
  }
 ],
 "metadata": {
  "kernelspec": {
   "display_name": "Python 3",
   "language": "python",
   "name": "python3"
  },
  "language_info": {
   "codemirror_mode": {
    "name": "ipython",
    "version": 3
   },
   "file_extension": ".py",
   "mimetype": "text/x-python",
   "name": "python",
   "nbconvert_exporter": "python",
   "pygments_lexer": "ipython3",
   "version": "3.7.3"
  }
 },
 "nbformat": 4,
 "nbformat_minor": 2
}
